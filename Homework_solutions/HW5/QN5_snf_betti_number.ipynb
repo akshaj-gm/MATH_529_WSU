{
 "cells": [
  {
   "cell_type": "code",
   "execution_count": 1,
   "id": "7f4d2a03-fbb7-4675-9464-5b0cccc3e8b7",
   "metadata": {},
   "outputs": [],
   "source": [
    "import numpy as np\n",
    "from scipy.sparse import csr_matrix, find\n",
    "import scipy.sparse as sp"
   ]
  },
  {
   "cell_type": "code",
   "execution_count": 2,
   "id": "032b50ce-1bb7-4203-a997-9cea6dac6731",
   "metadata": {},
   "outputs": [],
   "source": [
    "triangles_file = 'triangles.txt'\n",
    "faces = np.loadtxt(triangles_file, dtype=int) - 1\n",
    "faces = np.sort(faces, axis=1)"
   ]
  },
  {
   "cell_type": "code",
   "execution_count": 3,
   "id": "5f6ea166-5485-4b54-bf38-a201da5d9374",
   "metadata": {},
   "outputs": [
    {
     "name": "stdout",
     "output_type": "stream",
     "text": [
      "[[ 255  258  262]\n",
      " [ 255  262  263]\n",
      " [ 261  262  263]\n",
      " ...\n",
      " [ 969 1008 1018]\n",
      " [ 246  247  289]\n",
      " [1777 1778 1781]]\n"
     ]
    }
   ],
   "source": [
    "print(faces)"
   ]
  },
  {
   "cell_type": "code",
   "execution_count": 4,
   "id": "718bcf21-41c4-467e-a8ae-49496f9c65e3",
   "metadata": {},
   "outputs": [
    {
     "name": "stdout",
     "output_type": "stream",
     "text": [
      "[[ 255  258  262]\n",
      " [ 255  262  263]\n",
      " [ 261  262  263]\n",
      " ...\n",
      " [  90   94  263]\n",
      " [ 341  348 1256]\n",
      " [ 499  498  501]]\n"
     ]
    }
   ],
   "source": [
    "new_triangles = np.array([\n",
    "    [90, 94, 263],\n",
    "    [341, 348, 1256],\n",
    "    [499, 498, 501]\n",
    "]) \n",
    "\n",
    "faces_update = np.vstack((faces, new_triangles))\n",
    "print(faces_update)"
   ]
  },
  {
   "cell_type": "code",
   "execution_count": 5,
   "id": "9a1f6e25-8ca3-42f8-8097-207fb5bbffcc",
   "metadata": {},
   "outputs": [],
   "source": [
    "def edge_array(faces):\n",
    "    edges_count = {}\n",
    "\n",
    "    for face in faces:\n",
    "        v1, v2, v3 = face\n",
    "        edges = [tuple(sorted((v1, v2))), tuple(sorted((v2, v3))), tuple(sorted((v3, v1)))]\n",
    "\n",
    "        for edge in edges:\n",
    "            if edge in edges_count:\n",
    "                edges_count[edge] += 1\n",
    "            else:\n",
    "                edges_count[edge] = 1\n",
    "    \n",
    "    edges = np.array([(edge[0], edge[1], count) for edge, count in edges_count.items()])\n",
    "    print(edges)\n",
    "    return edges"
   ]
  },
  {
   "cell_type": "code",
   "execution_count": 6,
   "id": "1a1c1e40-f67c-46c8-bd64-b256c67b05a5",
   "metadata": {},
   "outputs": [
    {
     "name": "stdout",
     "output_type": "stream",
     "text": [
      "[[ 255  258    2]\n",
      " [ 258  262    2]\n",
      " [ 255  262    2]\n",
      " ...\n",
      " [ 459 1720    2]\n",
      " [ 458  460    2]\n",
      " [ 498  499    2]]\n"
     ]
    }
   ],
   "source": [
    "edges = edge_array(faces_update)"
   ]
  },
  {
   "cell_type": "code",
   "execution_count": 7,
   "id": "50223f60-3f1d-43da-92fd-297988ec6fa3",
   "metadata": {},
   "outputs": [],
   "source": [
    "def bound0(n):\n",
    "    boundary_0 = 1 * np.ones((1, n))\n",
    "    return boundary_0"
   ]
  },
  {
   "cell_type": "code",
   "execution_count": null,
   "id": "3ff9f249-2511-4248-a175-35b1209e9c7d",
   "metadata": {},
   "outputs": [],
   "source": []
  },
  {
   "cell_type": "code",
   "execution_count": 8,
   "id": "3e096b22-0452-438b-880b-9b017580a13d",
   "metadata": {},
   "outputs": [],
   "source": [
    "def compute_boundary_matrices(faces, edges):\n",
    "    num_faces = faces.shape[0]\n",
    "    vertices = np.unique(faces)\n",
    "    num_vertices = len(vertices)\n",
    "    num_edges = edges.shape[0]\n",
    "\n",
    "    vertex_index = {vertex: i for i, vertex in enumerate(vertices)}\n",
    "\n",
    "    faces = np.sort(faces, axis=1)\n",
    "    edges = np.sort(edges, axis=1)\n",
    "\n",
    "    B2_data = []\n",
    "    B2_rows = []\n",
    "    B2_cols = []\n",
    "    for i, face in enumerate(faces):\n",
    "        for j in range(3):\n",
    "            edge = tuple(sorted((face[j], face[(j + 1) % 3])))\n",
    "            edge_idx = np.where((edges == edge).all(axis=1))[0][0]\n",
    "            B2_data.append(1)\n",
    "            B2_rows.append(edge_idx)\n",
    "            B2_cols.append(i)\n",
    "    \n",
    "    B2 = csr_matrix((B2_data, (B2_rows, B2_cols)), shape=(num_edges, num_faces))\n",
    "\n",
    "    B1_data = []\n",
    "    B1_rows = []\n",
    "    B1_cols = []\n",
    "    for i, edge in enumerate(edges):\n",
    "        for vertex in edge:\n",
    "            B1_data.append(1)\n",
    "            B1_rows.append(vertex_index[vertex])\n",
    "            B1_cols.append(i)\n",
    "    \n",
    "    B1 = csr_matrix((B1_data, (B1_rows, B1_cols)), shape=(num_vertices, num_edges))\n",
    "\n",
    "    return B1, B2\n"
   ]
  },
  {
   "cell_type": "code",
   "execution_count": 9,
   "id": "88df9bde-ab3a-43de-88e0-c038223a7626",
   "metadata": {},
   "outputs": [
    {
     "name": "stdout",
     "output_type": "stream",
     "text": [
      "1932\n"
     ]
    }
   ],
   "source": [
    "v = np.max(edges) + 1\n",
    "print(v)"
   ]
  },
  {
   "cell_type": "code",
   "execution_count": 10,
   "id": "ac3e2b25-2277-428a-a09b-1b9763fafd8f",
   "metadata": {},
   "outputs": [
    {
     "data": {
      "text/plain": [
       "array([[1., 1., 1., ..., 1., 1., 1.]])"
      ]
     },
     "execution_count": 10,
     "metadata": {},
     "output_type": "execute_result"
    }
   ],
   "source": [
    "bound0(v)"
   ]
  },
  {
   "cell_type": "code",
   "execution_count": 11,
   "id": "e442e1f8-e0ee-4fcb-aac1-ab7290694ecd",
   "metadata": {},
   "outputs": [
    {
     "name": "stdout",
     "output_type": "stream",
     "text": [
      "[[ 255  258]\n",
      " [ 258  262]\n",
      " [ 255  262]\n",
      " ...\n",
      " [ 459 1720]\n",
      " [ 458  460]\n",
      " [ 498  499]]\n"
     ]
    }
   ],
   "source": [
    "e = np.delete(edges, 2, axis=1)\n",
    "print(e)"
   ]
  },
  {
   "cell_type": "code",
   "execution_count": 12,
   "id": "3e33308b-677c-4dae-93eb-7853f1efa3c9",
   "metadata": {},
   "outputs": [],
   "source": [
    "bound1,bound2 = compute_boundary_matrices(faces_update, e)"
   ]
  },
  {
   "cell_type": "code",
   "execution_count": 13,
   "id": "b77a2686-9afa-4912-90bf-fa65a43d702d",
   "metadata": {},
   "outputs": [
    {
     "data": {
      "text/plain": [
       "np.int64(11568)"
      ]
     },
     "execution_count": 13,
     "metadata": {},
     "output_type": "execute_result"
    }
   ],
   "source": [
    "np.sum(bound2 == 1)"
   ]
  },
  {
   "cell_type": "code",
   "execution_count": 14,
   "id": "6cbcbda9-1d31-44fa-a048-905422effe72",
   "metadata": {},
   "outputs": [
    {
     "name": "stdout",
     "output_type": "stream",
     "text": [
      "(5784, 3856)\n"
     ]
    }
   ],
   "source": [
    "print(bound2.shape)"
   ]
  },
  {
   "cell_type": "code",
   "execution_count": 15,
   "id": "876ae2a6-72c9-4f0b-9454-add077375752",
   "metadata": {},
   "outputs": [
    {
     "data": {
      "text/plain": [
       "np.int64(11568)"
      ]
     },
     "execution_count": 15,
     "metadata": {},
     "output_type": "execute_result"
    }
   ],
   "source": [
    "np.sum(bound2 == 1)"
   ]
  },
  {
   "cell_type": "code",
   "execution_count": 16,
   "id": "87832870-0dfa-4f24-be25-1aaead9e0d91",
   "metadata": {
    "scrolled": true
   },
   "outputs": [
    {
     "name": "stdout",
     "output_type": "stream",
     "text": [
      "<Compressed Sparse Row sparse matrix of dtype 'int64'\n",
      "\twith 11568 stored elements and shape (1928, 5784)>\n",
      "  Coords\tValues\n",
      "  (0, 2376)\t1\n",
      "  (0, 2377)\t1\n",
      "  (0, 2382)\t1\n",
      "  (0, 2383)\t1\n",
      "  (0, 4437)\t1\n",
      "  (0, 4460)\t1\n",
      "  (1, 2386)\t1\n",
      "  (1, 2387)\t1\n",
      "  (1, 2388)\t1\n",
      "  (1, 2389)\t1\n",
      "  (1, 2391)\t1\n",
      "  (2, 2396)\t1\n",
      "  (2, 2397)\t1\n",
      "  (2, 2401)\t1\n",
      "  (2, 2785)\t1\n",
      "  (2, 2846)\t1\n",
      "  (2, 2854)\t1\n",
      "  (3, 2701)\t1\n",
      "  (3, 2703)\t1\n",
      "  (3, 2787)\t1\n",
      "  (3, 2789)\t1\n",
      "  (3, 2847)\t1\n",
      "  (3, 2849)\t1\n",
      "  (4, 2785)\t1\n",
      "  (4, 2786)\t1\n",
      "  :\t:\n",
      "  (1923, 4933)\t1\n",
      "  (1923, 5069)\t1\n",
      "  (1924, 4927)\t1\n",
      "  (1924, 4928)\t1\n",
      "  (1924, 4930)\t1\n",
      "  (1924, 5067)\t1\n",
      "  (1924, 5070)\t1\n",
      "  (1925, 5073)\t1\n",
      "  (1925, 5074)\t1\n",
      "  (1925, 5076)\t1\n",
      "  (1925, 5077)\t1\n",
      "  (1925, 5100)\t1\n",
      "  (1926, 4906)\t1\n",
      "  (1926, 4907)\t1\n",
      "  (1926, 4910)\t1\n",
      "  (1926, 4918)\t1\n",
      "  (1926, 4934)\t1\n",
      "  (1926, 4936)\t1\n",
      "  (1926, 4938)\t1\n",
      "  (1927, 5061)\t1\n",
      "  (1927, 5062)\t1\n",
      "  (1927, 5063)\t1\n",
      "  (1927, 5064)\t1\n",
      "  (1927, 5094)\t1\n",
      "  (1927, 5096)\t1\n"
     ]
    }
   ],
   "source": [
    "print(bound1)"
   ]
  },
  {
   "cell_type": "code",
   "execution_count": 17,
   "id": "4fdf65a6-24e1-4cb4-8999-9599c1402f6a",
   "metadata": {
    "scrolled": true
   },
   "outputs": [
    {
     "name": "stdout",
     "output_type": "stream",
     "text": [
      "<Compressed Sparse Row sparse matrix of dtype 'int64'\n",
      "\twith 11568 stored elements and shape (5784, 3856)>\n",
      "  Coords\tValues\n",
      "  (0, 0)\t1\n",
      "  (0, 8)\t1\n",
      "  (1, 0)\t1\n",
      "  (1, 21)\t1\n",
      "  (2, 0)\t1\n",
      "  (2, 1)\t1\n",
      "  (3, 1)\t1\n",
      "  (3, 2)\t1\n",
      "  (4, 1)\t1\n",
      "  (4, 5)\t1\n",
      "  (5, 2)\t1\n",
      "  (5, 3)\t1\n",
      "  (6, 2)\t1\n",
      "  (6, 17)\t1\n",
      "  (7, 3)\t1\n",
      "  (7, 4)\t1\n",
      "  (8, 3)\t1\n",
      "  (8, 20)\t1\n",
      "  (9, 4)\t1\n",
      "  (9, 25)\t1\n",
      "  (10, 4)\t1\n",
      "  (10, 7)\t1\n",
      "  (11, 5)\t1\n",
      "  (11, 10)\t1\n",
      "  (12, 5)\t1\n",
      "  :\t:\n",
      "  (5771, 3835)\t1\n",
      "  (5772, 3835)\t1\n",
      "  (5772, 3842)\t1\n",
      "  (5773, 3836)\t1\n",
      "  (5773, 3837)\t1\n",
      "  (5774, 3837)\t1\n",
      "  (5774, 3843)\t1\n",
      "  (5775, 3838)\t1\n",
      "  (5775, 3845)\t1\n",
      "  (5776, 3839)\t1\n",
      "  (5776, 3844)\t1\n",
      "  (5777, 3839)\t1\n",
      "  (5777, 3840)\t1\n",
      "  (5778, 3840)\t1\n",
      "  (5778, 3841)\t1\n",
      "  (5779, 3841)\t1\n",
      "  (5779, 3843)\t1\n",
      "  (5780, 3842)\t1\n",
      "  (5780, 3844)\t1\n",
      "  (5781, 3842)\t1\n",
      "  (5781, 3843)\t1\n",
      "  (5782, 3844)\t1\n",
      "  (5782, 3845)\t1\n",
      "  (5783, 3846)\t1\n",
      "  (5783, 3855)\t1\n"
     ]
    }
   ],
   "source": [
    "print(bound2)"
   ]
  },
  {
   "cell_type": "code",
   "execution_count": 20,
   "id": "4a28728e-afaf-4c37-a9e2-00da242e33dd",
   "metadata": {},
   "outputs": [],
   "source": [
    "def snf(B_sparse):\n",
    "\n",
    "    B = B_sparse.toarray().astype(int) % 2\n",
    "    m, n = B.shape\n",
    "    i = 0\n",
    "\n",
    "    while i < min(m, n):\n",
    "        submatrix = B[i:, i:]\n",
    "        nonzero_indices = np.argwhere(submatrix)\n",
    "        \n",
    "        if nonzero_indices.size == 0:\n",
    "            break\n",
    "\n",
    "        R, C = nonzero_indices[0]\n",
    "\n",
    "        j = R + i\n",
    "        k = C + i\n",
    "\n",
    "        if i != j:\n",
    "            B[[i, j], :] = B[[j, i], :]\n",
    "        if i != k:\n",
    "            B[:, [i, k]] = B[:, [k, i]]\n",
    "\n",
    "        for h in range(i+1, m):\n",
    "            if B[h, i] == 1:\n",
    "                B[h, :] = (B[h, :] + B[i, :]) % 2\n",
    "\n",
    "        for l in range(i+1, n):\n",
    "            if B[i, l] == 1:\n",
    "                B[:, l] = (B[:, l] + B[:, i]) % 2\n",
    "\n",
    "        i += 1  \n",
    "\n",
    "    return B"
   ]
  },
  {
   "cell_type": "code",
   "execution_count": 21,
   "id": "a011a036-3040-41f7-8324-a1ddd3fa9c13",
   "metadata": {},
   "outputs": [],
   "source": [
    "B1=snf_sparse(bound1)"
   ]
  },
  {
   "cell_type": "code",
   "execution_count": 22,
   "id": "aefb51cc-0501-451c-8688-cb880bee95fa",
   "metadata": {},
   "outputs": [
    {
     "name": "stdout",
     "output_type": "stream",
     "text": [
      "<Compressed Sparse Column sparse matrix of dtype 'int64'\n",
      "\twith 1927 stored elements and shape (1928, 5784)>\n",
      "  Coords\tValues\n",
      "  (0, 0)\t1\n",
      "  (1, 1)\t1\n",
      "  (2, 2)\t1\n",
      "  (3, 3)\t1\n",
      "  (4, 4)\t1\n",
      "  (5, 5)\t1\n",
      "  (6, 6)\t1\n",
      "  (7, 7)\t1\n",
      "  (8, 8)\t1\n",
      "  (9, 9)\t1\n",
      "  (10, 10)\t1\n",
      "  (11, 11)\t1\n",
      "  (12, 12)\t1\n",
      "  (13, 13)\t1\n",
      "  (14, 14)\t1\n",
      "  (15, 15)\t1\n",
      "  (16, 16)\t1\n",
      "  (17, 17)\t1\n",
      "  (18, 18)\t1\n",
      "  (19, 19)\t1\n",
      "  (20, 20)\t1\n",
      "  (21, 21)\t1\n",
      "  (22, 22)\t1\n",
      "  (23, 23)\t1\n",
      "  (24, 24)\t1\n",
      "  :\t:\n",
      "  (1902, 1902)\t1\n",
      "  (1903, 1903)\t1\n",
      "  (1904, 1904)\t1\n",
      "  (1905, 1905)\t1\n",
      "  (1906, 1906)\t1\n",
      "  (1907, 1907)\t1\n",
      "  (1908, 1908)\t1\n",
      "  (1909, 1909)\t1\n",
      "  (1910, 1910)\t1\n",
      "  (1911, 1911)\t1\n",
      "  (1912, 1912)\t1\n",
      "  (1913, 1913)\t1\n",
      "  (1914, 1914)\t1\n",
      "  (1915, 1915)\t1\n",
      "  (1916, 1916)\t1\n",
      "  (1917, 1917)\t1\n",
      "  (1918, 1918)\t1\n",
      "  (1919, 1919)\t1\n",
      "  (1920, 1920)\t1\n",
      "  (1921, 1921)\t1\n",
      "  (1922, 1922)\t1\n",
      "  (1923, 1923)\t1\n",
      "  (1924, 1924)\t1\n",
      "  (1925, 1925)\t1\n",
      "  (1926, 1926)\t1\n"
     ]
    }
   ],
   "source": [
    "print(B1)"
   ]
  },
  {
   "cell_type": "code",
   "execution_count": 23,
   "id": "b854545b-bd26-4e16-95a8-2d42e2f0f2eb",
   "metadata": {},
   "outputs": [],
   "source": [
    "B2=snf_sparse(bound2)"
   ]
  },
  {
   "cell_type": "code",
   "execution_count": 24,
   "id": "93c3ee9f-b8a4-4b03-b47e-c18a9c4a0a26",
   "metadata": {},
   "outputs": [
    {
     "name": "stdout",
     "output_type": "stream",
     "text": [
      "<Compressed Sparse Column sparse matrix of dtype 'int64'\n",
      "\twith 3855 stored elements and shape (5784, 3856)>\n",
      "  Coords\tValues\n",
      "  (0, 0)\t1\n",
      "  (1, 1)\t1\n",
      "  (2, 2)\t1\n",
      "  (3, 3)\t1\n",
      "  (4, 4)\t1\n",
      "  (5, 5)\t1\n",
      "  (6, 6)\t1\n",
      "  (7, 7)\t1\n",
      "  (8, 8)\t1\n",
      "  (9, 9)\t1\n",
      "  (10, 10)\t1\n",
      "  (11, 11)\t1\n",
      "  (12, 12)\t1\n",
      "  (13, 13)\t1\n",
      "  (14, 14)\t1\n",
      "  (15, 15)\t1\n",
      "  (16, 16)\t1\n",
      "  (17, 17)\t1\n",
      "  (18, 18)\t1\n",
      "  (19, 19)\t1\n",
      "  (20, 20)\t1\n",
      "  (21, 21)\t1\n",
      "  (22, 22)\t1\n",
      "  (23, 23)\t1\n",
      "  (24, 24)\t1\n",
      "  :\t:\n",
      "  (3830, 3830)\t1\n",
      "  (3831, 3831)\t1\n",
      "  (3832, 3832)\t1\n",
      "  (3833, 3833)\t1\n",
      "  (3834, 3834)\t1\n",
      "  (3835, 3835)\t1\n",
      "  (3836, 3836)\t1\n",
      "  (3837, 3837)\t1\n",
      "  (3838, 3838)\t1\n",
      "  (3839, 3839)\t1\n",
      "  (3840, 3840)\t1\n",
      "  (3841, 3841)\t1\n",
      "  (3842, 3842)\t1\n",
      "  (3843, 3843)\t1\n",
      "  (3844, 3844)\t1\n",
      "  (3845, 3845)\t1\n",
      "  (3846, 3846)\t1\n",
      "  (3847, 3847)\t1\n",
      "  (3848, 3848)\t1\n",
      "  (3849, 3849)\t1\n",
      "  (3850, 3850)\t1\n",
      "  (3851, 3851)\t1\n",
      "  (3852, 3852)\t1\n",
      "  (3853, 3853)\t1\n",
      "  (3854, 3854)\t1\n"
     ]
    }
   ],
   "source": [
    "print(B2)"
   ]
  },
  {
   "cell_type": "code",
   "execution_count": 25,
   "id": "0c350088-eb5a-4492-81d1-c92158e6e599",
   "metadata": {},
   "outputs": [],
   "source": [
    "z0 = 1928\n",
    "z1 = 5784 - 1927\n",
    "z2 = 1\n",
    "b0 = 1927\n",
    "b1 = 3855\n",
    "b2 = 0"
   ]
  },
  {
   "cell_type": "code",
   "execution_count": 26,
   "id": "338edfc0-3230-4963-978c-e7738c033cd5",
   "metadata": {},
   "outputs": [],
   "source": [
    "betti1 = z0 - b0\n",
    "betti2 = z1 - b1\n",
    "betti3 = z2 - b2"
   ]
  },
  {
   "cell_type": "code",
   "execution_count": 27,
   "id": "1b738b25-30db-49da-9791-87908a5c5b3e",
   "metadata": {},
   "outputs": [
    {
     "name": "stdout",
     "output_type": "stream",
     "text": [
      "1\n",
      "2\n",
      "1\n"
     ]
    }
   ],
   "source": [
    "print(betti1)\n",
    "print(betti2)\n",
    "print(betti3)"
   ]
  },
  {
   "cell_type": "code",
   "execution_count": null,
   "id": "9349ee1e-4de6-48f4-b55d-68ea87164ccd",
   "metadata": {},
   "outputs": [],
   "source": []
  }
 ],
 "metadata": {
  "kernelspec": {
   "display_name": "Python 3 (ipykernel)",
   "language": "python",
   "name": "python3"
  },
  "language_info": {
   "codemirror_mode": {
    "name": "ipython",
    "version": 3
   },
   "file_extension": ".py",
   "mimetype": "text/x-python",
   "name": "python",
   "nbconvert_exporter": "python",
   "pygments_lexer": "ipython3",
   "version": "3.10.14"
  }
 },
 "nbformat": 4,
 "nbformat_minor": 5
}
